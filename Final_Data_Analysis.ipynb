{
 "cells": [
  {
   "cell_type": "markdown",
   "id": "6158fdd0-b1fa-4caf-87ca-3a74d80d7ca3",
   "metadata": {},
   "source": [
    "# Final Project\n",
    "### Chloe Israel"
   ]
  },
  {
   "cell_type": "markdown",
   "id": "4a6cc0e1-8114-4c98-97fa-02f4be3e4c11",
   "metadata": {},
   "source": [
    "## Introduction"
   ]
  },
  {
   "cell_type": "markdown",
   "id": "df559794-de59-4fcb-b4e7-686a83a1cd40",
   "metadata": {},
   "source": [
    "This project examines a dataset, Student Performance Factors, and analyzes it using data science techniques to answer a series of research questions. By utilizing various different data manipulation and visualization techniques, the results of the analysis will be reported and the outlined research questions will be answered based on those results."
   ]
  },
  {
   "cell_type": "markdown",
   "id": "4f02beca-6eca-4b92-b960-b231909f81c7",
   "metadata": {},
   "source": [
    "## Data Description "
   ]
  },
  {
   "cell_type": "markdown",
   "id": "196f0247-17b8-49e8-8391-04ed0ad62cb1",
   "metadata": {},
   "source": [
    "The data set used is called Student Performance Factors, which was found on Kaggle (kaggle.com). It provides a comprehensive overview of various factors that affect student performance during exams. It has 6,607 rows and 20 variables. Of the variables, 10 are character variables, 7 are numerical variables, and 3 are Boolean variables. Each row represents one student, which is the data set's unit of observation. The variables represent a different factor that influences a student's success during exams. These include but are not limited to study habits, demographic information, and school quality. The students' exam scores are also provided as a metric to measure their performance. No changes were made to the data set. The data set is saved in the file 'StudentPerformanceFactors.csv'.\n",
    "\n",
    "This dataset was chosen because it provides clear details about the factors that affect student performance. Many factors from socioeconomic status, health, school quality, and more can impact a student's grades. It is worth examining what has a positive or negative impact and how different factors relate to each other to help better understand why students perform well or don't. That knowledge will make it easier to effectively help students who are struggling.\n",
    "\n",
    "#### Key Variables:\n",
    "**Name**                   | **Data Type** | **Description**\n",
    ":--------------------------|:--------------|:----------------\n",
    "Attendance                 | integer       | Percentage of classes the student attended.                              \n",
    "Access_to_Resources        | string        | Availability of educational resources to the student(Low/Medium/High).\n",
    "Sleep_Hours                | integer       | Average number of hours of sleep the student gets per night. \n",
    "Previous_Scores            | integer       | Student’s scores from past exams.\n",
    "Motivation_Level           | string        | Student’s motivation level (Low/Medium/High).\n",
    "Teacher_Quality            | string        | Quality of the teachers at the student’s school (Low/Medium/High).\n",
    "School_Type                | string        | Type of school the student attends (Public/Private)\n",
    "Physical_Activity          | integer       | Average number of hours of physical activity the student gets per week.\n",
    "Learning_Disabilities      | Boolean       | Indicates whether the student has a learning disability.\n",
    "Exam_Score                 | integer       | Student’s final exam score."
   ]
  },
  {
   "cell_type": "markdown",
   "id": "ca9613d9-2c1a-4e97-be39-be921e27d624",
   "metadata": {},
   "source": [
    "## Research Questions"
   ]
  },
  {
   "cell_type": "markdown",
   "id": "97ae1f4a-6287-459b-bca2-422d6bf62a81",
   "metadata": {},
   "source": [
    "1. What is the relationship between the percentage of classes a student attends and a student’s exam scores, and does it differ based on the quality of the teachers at the school?\n",
    "\n",
    "    **Variables:** Attendance, Exam_Score, Teacher_Quality\n",
    "\n",
    "    This question explores the relationship between student attendance, exam scores, and teacher quality. The relationship between attendance and exam scores is worth exploring because it could give some insight into how factors that can indicate a student’s effort, like attending class, relate to their exam results. This will investigate the common belief that higher class attendance helps with a student’s learning. The additional exploration of teacher quality could provide insight into why students attend class and the level of learning they receive by attending. Teacher quality relates to both attendance and exam scores, so how does it relate to the relationship between the two variables?\n",
    "\n",
    "\n",
    "2. Is there an association between the presence of a learning disability in a student and the student’s level of motivation?\n",
    "\n",
    "    **Variables:** Learning_Disabilities, Motivation_Level\n",
    "\n",
    "    This question explores the relationship between learning disabilities and motivation levels. In general, learning disabilities can make it difficult for a student to receive and retain information in a certain way. It’s worth exploring if students who may need to put in extra time to pay attention in class or understand information are motivated to do so. This relationship can also be extended to examine many other variables such as tutoring sessions, hours of sleep, or hours studied. This initial information provides important insights and helps with further exploration of this data set.\n",
    "\n",
    "\n",
    "3. How do a student’s physical activity levels and hours of sleep per night relate to a student’s exam scores?\n",
    "\n",
    "    **Variables:** Physical_Activity, Sleep_Hours, Exam_Score\n",
    "\n",
    "    This question explores the relationship between physical activity, hours of sleep, and exam scores. The two variables physical activity and hours of sleep are commonly associated with a person’s wellness and both have certain levels that are considered healthy for student-aged individuals. Exploring the relationship between student wellness and exam scores will give insight into how students who fall in the healthy wellness range perform in school compared to those who do not.\n",
    "\n",
    "\n",
    "4. What is the relationship between the availability of educational resources to a student and school type, and do these factors correlate with a student’s exam scores?\n",
    "\n",
    "    **Variables:** Access_to_Resources, School_Type, Exam_Score\n",
    "\n",
    "    This question explores the relationship between the availability of resources, school type (Public or Private), and exam scores. Often public schools will not have as many educational resources available to students compared to private schools. It’s worth investigating this notion to see if it is supported by data. Exploring how that relationship correlates with student exam scores can provide important information regarding the differences between the education of students of different socioeconomic levels.\n",
    "\n"
   ]
  },
  {
   "cell_type": "markdown",
   "id": "227e2cd9-641c-4ec6-aaaa-735784b3de5a",
   "metadata": {},
   "source": [
    "## Analysis and Findings"
   ]
  },
  {
   "cell_type": "markdown",
   "id": "665be72a-7340-4fc2-be7c-f6ce611b9ff0",
   "metadata": {},
   "source": [
    "### Analysis Preparation"
   ]
  },
  {
   "cell_type": "code",
   "execution_count": 1,
   "id": "cf083ed2-eac9-422f-8a77-4b981b8e4e2a",
   "metadata": {},
   "outputs": [],
   "source": [
    "# Load the needed libraries.\n",
    "import pandas as pd\n",
    "import numpy as np\n",
    "import matplotlib.pyplot as plt"
   ]
  },
  {
   "cell_type": "code",
   "execution_count": 2,
   "id": "600a4e6e-bed5-4c7e-9482-d96003d56888",
   "metadata": {},
   "outputs": [],
   "source": [
    "# Load the data into the spf data frame.\n",
    "spf = pd.read_csv(\"StudentPerformanceFactors.csv\")"
   ]
  },
  {
   "cell_type": "code",
   "execution_count": 3,
   "id": "3fea0d23-4be4-4296-9d70-f29749e11954",
   "metadata": {},
   "outputs": [
    {
     "name": "stdout",
     "output_type": "stream",
     "text": [
      "<class 'pandas.core.frame.DataFrame'>\n",
      "RangeIndex: 6607 entries, 0 to 6606\n",
      "Data columns (total 20 columns):\n",
      " #   Column                      Non-Null Count  Dtype \n",
      "---  ------                      --------------  ----- \n",
      " 0   Hours_Studied               6607 non-null   int64 \n",
      " 1   Attendance                  6607 non-null   int64 \n",
      " 2   Parental_Involvement        6607 non-null   object\n",
      " 3   Access_to_Resources         6607 non-null   object\n",
      " 4   Extracurricular_Activities  6607 non-null   object\n",
      " 5   Sleep_Hours                 6607 non-null   int64 \n",
      " 6   Previous_Scores             6607 non-null   int64 \n",
      " 7   Motivation_Level            6607 non-null   object\n",
      " 8   Internet_Access             6607 non-null   object\n",
      " 9   Tutoring_Sessions           6607 non-null   int64 \n",
      " 10  Family_Income               6607 non-null   object\n",
      " 11  Teacher_Quality             6529 non-null   object\n",
      " 12  School_Type                 6607 non-null   object\n",
      " 13  Peer_Influence              6607 non-null   object\n",
      " 14  Physical_Activity           6607 non-null   int64 \n",
      " 15  Learning_Disabilities       6607 non-null   object\n",
      " 16  Parental_Education_Level    6517 non-null   object\n",
      " 17  Distance_from_Home          6540 non-null   object\n",
      " 18  Gender                      6607 non-null   object\n",
      " 19  Exam_Score                  6607 non-null   int64 \n",
      "dtypes: int64(7), object(13)\n",
      "memory usage: 1.0+ MB\n"
     ]
    }
   ],
   "source": [
    "# Display the dataframe information.\n",
    "spf.info()"
   ]
  },
  {
   "cell_type": "code",
   "execution_count": 4,
   "id": "04a6d3ea-56bf-4b09-816b-7b5168f7caa1",
   "metadata": {},
   "outputs": [
    {
     "data": {
      "text/plain": [
       "Index(['Hours_Studied', 'Attendance', 'Parental_Involvement',\n",
       "       'Access_to_Resources', 'Extracurricular_Activities', 'Sleep_Hours',\n",
       "       'Previous_Scores', 'Motivation_Level', 'Internet_Access',\n",
       "       'Tutoring_Sessions', 'Family_Income', 'Teacher_Quality', 'School_Type',\n",
       "       'Peer_Influence', 'Physical_Activity', 'Learning_Disabilities',\n",
       "       'Parental_Education_Level', 'Distance_from_Home', 'Gender',\n",
       "       'Exam_Score'],\n",
       "      dtype='object')"
      ]
     },
     "execution_count": 4,
     "metadata": {},
     "output_type": "execute_result"
    }
   ],
   "source": [
    "# Display the column names.\n",
    "spf.columns"
   ]
  },
  {
   "cell_type": "code",
   "execution_count": 5,
   "id": "196db343-bbb5-41ee-8c70-b87b4af45a7c",
   "metadata": {},
   "outputs": [
    {
     "data": {
      "text/html": [
       "<div>\n",
       "<style scoped>\n",
       "    .dataframe tbody tr th:only-of-type {\n",
       "        vertical-align: middle;\n",
       "    }\n",
       "\n",
       "    .dataframe tbody tr th {\n",
       "        vertical-align: top;\n",
       "    }\n",
       "\n",
       "    .dataframe thead th {\n",
       "        text-align: right;\n",
       "    }\n",
       "</style>\n",
       "<table border=\"1\" class=\"dataframe\">\n",
       "  <thead>\n",
       "    <tr style=\"text-align: right;\">\n",
       "      <th></th>\n",
       "      <th>Hours_Studied</th>\n",
       "      <th>Attendance</th>\n",
       "      <th>Parental_Involvement</th>\n",
       "      <th>Access_to_Resources</th>\n",
       "      <th>Extracurricular_Activities</th>\n",
       "      <th>Sleep_Hours</th>\n",
       "      <th>Previous_Scores</th>\n",
       "      <th>Motivation_Level</th>\n",
       "      <th>Internet_Access</th>\n",
       "      <th>Tutoring_Sessions</th>\n",
       "      <th>Family_Income</th>\n",
       "      <th>Teacher_Quality</th>\n",
       "      <th>School_Type</th>\n",
       "      <th>Peer_Influence</th>\n",
       "      <th>Physical_Activity</th>\n",
       "      <th>Learning_Disabilities</th>\n",
       "      <th>Parental_Education_Level</th>\n",
       "      <th>Distance_from_Home</th>\n",
       "      <th>Gender</th>\n",
       "      <th>Exam_Score</th>\n",
       "    </tr>\n",
       "  </thead>\n",
       "  <tbody>\n",
       "    <tr>\n",
       "      <th>0</th>\n",
       "      <td>23</td>\n",
       "      <td>84</td>\n",
       "      <td>Low</td>\n",
       "      <td>High</td>\n",
       "      <td>No</td>\n",
       "      <td>7</td>\n",
       "      <td>73</td>\n",
       "      <td>Low</td>\n",
       "      <td>Yes</td>\n",
       "      <td>0</td>\n",
       "      <td>Low</td>\n",
       "      <td>Medium</td>\n",
       "      <td>Public</td>\n",
       "      <td>Positive</td>\n",
       "      <td>3</td>\n",
       "      <td>No</td>\n",
       "      <td>High School</td>\n",
       "      <td>Near</td>\n",
       "      <td>Male</td>\n",
       "      <td>67</td>\n",
       "    </tr>\n",
       "    <tr>\n",
       "      <th>1</th>\n",
       "      <td>19</td>\n",
       "      <td>64</td>\n",
       "      <td>Low</td>\n",
       "      <td>Medium</td>\n",
       "      <td>No</td>\n",
       "      <td>8</td>\n",
       "      <td>59</td>\n",
       "      <td>Low</td>\n",
       "      <td>Yes</td>\n",
       "      <td>2</td>\n",
       "      <td>Medium</td>\n",
       "      <td>Medium</td>\n",
       "      <td>Public</td>\n",
       "      <td>Negative</td>\n",
       "      <td>4</td>\n",
       "      <td>No</td>\n",
       "      <td>College</td>\n",
       "      <td>Moderate</td>\n",
       "      <td>Female</td>\n",
       "      <td>61</td>\n",
       "    </tr>\n",
       "    <tr>\n",
       "      <th>2</th>\n",
       "      <td>24</td>\n",
       "      <td>98</td>\n",
       "      <td>Medium</td>\n",
       "      <td>Medium</td>\n",
       "      <td>Yes</td>\n",
       "      <td>7</td>\n",
       "      <td>91</td>\n",
       "      <td>Medium</td>\n",
       "      <td>Yes</td>\n",
       "      <td>2</td>\n",
       "      <td>Medium</td>\n",
       "      <td>Medium</td>\n",
       "      <td>Public</td>\n",
       "      <td>Neutral</td>\n",
       "      <td>4</td>\n",
       "      <td>No</td>\n",
       "      <td>Postgraduate</td>\n",
       "      <td>Near</td>\n",
       "      <td>Male</td>\n",
       "      <td>74</td>\n",
       "    </tr>\n",
       "    <tr>\n",
       "      <th>3</th>\n",
       "      <td>29</td>\n",
       "      <td>89</td>\n",
       "      <td>Low</td>\n",
       "      <td>Medium</td>\n",
       "      <td>Yes</td>\n",
       "      <td>8</td>\n",
       "      <td>98</td>\n",
       "      <td>Medium</td>\n",
       "      <td>Yes</td>\n",
       "      <td>1</td>\n",
       "      <td>Medium</td>\n",
       "      <td>Medium</td>\n",
       "      <td>Public</td>\n",
       "      <td>Negative</td>\n",
       "      <td>4</td>\n",
       "      <td>No</td>\n",
       "      <td>High School</td>\n",
       "      <td>Moderate</td>\n",
       "      <td>Male</td>\n",
       "      <td>71</td>\n",
       "    </tr>\n",
       "    <tr>\n",
       "      <th>4</th>\n",
       "      <td>19</td>\n",
       "      <td>92</td>\n",
       "      <td>Medium</td>\n",
       "      <td>Medium</td>\n",
       "      <td>Yes</td>\n",
       "      <td>6</td>\n",
       "      <td>65</td>\n",
       "      <td>Medium</td>\n",
       "      <td>Yes</td>\n",
       "      <td>3</td>\n",
       "      <td>Medium</td>\n",
       "      <td>High</td>\n",
       "      <td>Public</td>\n",
       "      <td>Neutral</td>\n",
       "      <td>4</td>\n",
       "      <td>No</td>\n",
       "      <td>College</td>\n",
       "      <td>Near</td>\n",
       "      <td>Female</td>\n",
       "      <td>70</td>\n",
       "    </tr>\n",
       "  </tbody>\n",
       "</table>\n",
       "</div>"
      ],
      "text/plain": [
       "   Hours_Studied  Attendance Parental_Involvement Access_to_Resources  \\\n",
       "0             23          84                  Low                High   \n",
       "1             19          64                  Low              Medium   \n",
       "2             24          98               Medium              Medium   \n",
       "3             29          89                  Low              Medium   \n",
       "4             19          92               Medium              Medium   \n",
       "\n",
       "  Extracurricular_Activities  Sleep_Hours  Previous_Scores Motivation_Level  \\\n",
       "0                         No            7               73              Low   \n",
       "1                         No            8               59              Low   \n",
       "2                        Yes            7               91           Medium   \n",
       "3                        Yes            8               98           Medium   \n",
       "4                        Yes            6               65           Medium   \n",
       "\n",
       "  Internet_Access  Tutoring_Sessions Family_Income Teacher_Quality  \\\n",
       "0             Yes                  0           Low          Medium   \n",
       "1             Yes                  2        Medium          Medium   \n",
       "2             Yes                  2        Medium          Medium   \n",
       "3             Yes                  1        Medium          Medium   \n",
       "4             Yes                  3        Medium            High   \n",
       "\n",
       "  School_Type Peer_Influence  Physical_Activity Learning_Disabilities  \\\n",
       "0      Public       Positive                  3                    No   \n",
       "1      Public       Negative                  4                    No   \n",
       "2      Public        Neutral                  4                    No   \n",
       "3      Public       Negative                  4                    No   \n",
       "4      Public        Neutral                  4                    No   \n",
       "\n",
       "  Parental_Education_Level Distance_from_Home  Gender  Exam_Score  \n",
       "0              High School               Near    Male          67  \n",
       "1                  College           Moderate  Female          61  \n",
       "2             Postgraduate               Near    Male          74  \n",
       "3              High School           Moderate    Male          71  \n",
       "4                  College               Near  Female          70  "
      ]
     },
     "execution_count": 5,
     "metadata": {},
     "output_type": "execute_result"
    }
   ],
   "source": [
    "# Display the first 5 rows.\n",
    "spf.head()"
   ]
  },
  {
   "cell_type": "code",
   "execution_count": 6,
   "id": "adc8b971-4911-4810-91e5-feda79a88ce5",
   "metadata": {},
   "outputs": [],
   "source": [
    "# Copy the orginal dataframe into the df dataframe for modifications.\n",
    "df = spf"
   ]
  },
  {
   "cell_type": "markdown",
   "id": "4fa4e93a-6878-441b-a8f5-e9b61e8eab63",
   "metadata": {},
   "source": [
    "Currently, the 3 Boolean variables \"Extracurricular_Activities\", \"Internet_Access\", and \"Learning_Disabilities\" hold the \n",
    "values Yes/No instead of the standard Boolean values True/False. To make it easier to group, filter, and work with these variables and \n",
    "to keep with standard Boolean conventions, these variable values will be changed to True/False."
   ]
  },
  {
   "cell_type": "code",
   "execution_count": 7,
   "id": "0ca2f3ec-e055-4412-8ae6-5567a6dc2068",
   "metadata": {},
   "outputs": [
    {
     "data": {
      "text/html": [
       "<div>\n",
       "<style scoped>\n",
       "    .dataframe tbody tr th:only-of-type {\n",
       "        vertical-align: middle;\n",
       "    }\n",
       "\n",
       "    .dataframe tbody tr th {\n",
       "        vertical-align: top;\n",
       "    }\n",
       "\n",
       "    .dataframe thead th {\n",
       "        text-align: right;\n",
       "    }\n",
       "</style>\n",
       "<table border=\"1\" class=\"dataframe\">\n",
       "  <thead>\n",
       "    <tr style=\"text-align: right;\">\n",
       "      <th></th>\n",
       "      <th>Extracurricular_Activities</th>\n",
       "      <th>Internet_Access</th>\n",
       "      <th>Learning_Disabilities</th>\n",
       "    </tr>\n",
       "  </thead>\n",
       "  <tbody>\n",
       "    <tr>\n",
       "      <th>0</th>\n",
       "      <td>False</td>\n",
       "      <td>True</td>\n",
       "      <td>False</td>\n",
       "    </tr>\n",
       "    <tr>\n",
       "      <th>1</th>\n",
       "      <td>False</td>\n",
       "      <td>True</td>\n",
       "      <td>False</td>\n",
       "    </tr>\n",
       "    <tr>\n",
       "      <th>2</th>\n",
       "      <td>True</td>\n",
       "      <td>True</td>\n",
       "      <td>False</td>\n",
       "    </tr>\n",
       "    <tr>\n",
       "      <th>3</th>\n",
       "      <td>True</td>\n",
       "      <td>True</td>\n",
       "      <td>False</td>\n",
       "    </tr>\n",
       "    <tr>\n",
       "      <th>4</th>\n",
       "      <td>True</td>\n",
       "      <td>True</td>\n",
       "      <td>False</td>\n",
       "    </tr>\n",
       "  </tbody>\n",
       "</table>\n",
       "</div>"
      ],
      "text/plain": [
       "  Extracurricular_Activities Internet_Access Learning_Disabilities\n",
       "0                      False            True                 False\n",
       "1                      False            True                 False\n",
       "2                       True            True                 False\n",
       "3                       True            True                 False\n",
       "4                       True            True                 False"
      ]
     },
     "execution_count": 7,
     "metadata": {},
     "output_type": "execute_result"
    }
   ],
   "source": [
    "# Use a loop to iterate through each value in the \"Extracurricular_Activities\", \"Internet_Access\", \n",
    "# and \"Learning_Disabilities\" columns. If the value if \"Yes\" change it to True. \n",
    "# If \"No\", change it to False.\n",
    "loopLen = len(df[\"Extracurricular_Activities\"])\n",
    "\n",
    "for i in range(loopLen):\n",
    "    if (df[\"Extracurricular_Activities\"][i] == \"Yes\"):\n",
    "        df.loc[i, \"Extracurricular_Activities\"] = True\n",
    "    elif (df[\"Extracurricular_Activities\"][i] == \"No\"):\n",
    "        df.loc[i, \"Extracurricular_Activities\"] = False\n",
    "        \n",
    "    if (df[\"Internet_Access\"][i] == \"Yes\"):\n",
    "        df.loc[i, \"Internet_Access\"] = True\n",
    "    elif (df[\"Internet_Access\"][i] == \"No\"):\n",
    "        df.loc[i, \"Internet_Access\"] = False\n",
    "        \n",
    "    if (df[\"Learning_Disabilities\"][i] == \"Yes\"):\n",
    "        df.loc[i, \"Learning_Disabilities\"] = True\n",
    "    elif (df[\"Learning_Disabilities\"][i] == \"No\"):\n",
    "        df.loc[i, \"Learning_Disabilities\"] = False\n",
    "        \n",
    "# Check that the changes are correct.\n",
    "df[[\"Extracurricular_Activities\", \"Internet_Access\", \"Learning_Disabilities\"]].head()"
   ]
  },
  {
   "cell_type": "markdown",
   "id": "9c1ef79d-784e-4ea2-a28e-f714b50a03d7",
   "metadata": {},
   "source": [
    "The student's test scores are provided by two variables, \"Previous_Scores\" and \"Exam_Score\". To have an easy metric to compare to other variables, the new variable \"Average_Score\" will be created by taking the average of the values is \"Previous_Scores\" and \"Exam_Score\".\n"
   ]
  },
  {
   "cell_type": "code",
   "execution_count": 8,
   "id": "b034215d-0a57-43eb-b331-dbadfa9a8d46",
   "metadata": {},
   "outputs": [
    {
     "data": {
      "text/html": [
       "<div>\n",
       "<style scoped>\n",
       "    .dataframe tbody tr th:only-of-type {\n",
       "        vertical-align: middle;\n",
       "    }\n",
       "\n",
       "    .dataframe tbody tr th {\n",
       "        vertical-align: top;\n",
       "    }\n",
       "\n",
       "    .dataframe thead th {\n",
       "        text-align: right;\n",
       "    }\n",
       "</style>\n",
       "<table border=\"1\" class=\"dataframe\">\n",
       "  <thead>\n",
       "    <tr style=\"text-align: right;\">\n",
       "      <th></th>\n",
       "      <th>Previous_Scores</th>\n",
       "      <th>Exam_Score</th>\n",
       "      <th>Average_Score</th>\n",
       "    </tr>\n",
       "  </thead>\n",
       "  <tbody>\n",
       "    <tr>\n",
       "      <th>0</th>\n",
       "      <td>73</td>\n",
       "      <td>67</td>\n",
       "      <td>70</td>\n",
       "    </tr>\n",
       "    <tr>\n",
       "      <th>1</th>\n",
       "      <td>59</td>\n",
       "      <td>61</td>\n",
       "      <td>60</td>\n",
       "    </tr>\n",
       "    <tr>\n",
       "      <th>2</th>\n",
       "      <td>91</td>\n",
       "      <td>74</td>\n",
       "      <td>82</td>\n",
       "    </tr>\n",
       "    <tr>\n",
       "      <th>3</th>\n",
       "      <td>98</td>\n",
       "      <td>71</td>\n",
       "      <td>84</td>\n",
       "    </tr>\n",
       "    <tr>\n",
       "      <th>4</th>\n",
       "      <td>65</td>\n",
       "      <td>70</td>\n",
       "      <td>67</td>\n",
       "    </tr>\n",
       "  </tbody>\n",
       "</table>\n",
       "</div>"
      ],
      "text/plain": [
       "   Previous_Scores  Exam_Score  Average_Score\n",
       "0               73          67             70\n",
       "1               59          61             60\n",
       "2               91          74             82\n",
       "3               98          71             84\n",
       "4               65          70             67"
      ]
     },
     "execution_count": 8,
     "metadata": {},
     "output_type": "execute_result"
    }
   ],
   "source": [
    "# Create the Average_Score column in the df dataframe by taking the average of the \n",
    "# \"Previous_Scores\" and \"Exam_Score\" columns.\n",
    "df[\"Average_Score\"] = (df[\"Previous_Scores\"] + df[\"Exam_Score\"]) // 2\n",
    "\n",
    "# Check the new column\n",
    "df[[\"Previous_Scores\", \"Exam_Score\", \"Average_Score\"]].head()"
   ]
  },
  {
   "cell_type": "code",
   "execution_count": 9,
   "id": "974b7c2f-d605-41cc-be3d-0731cb9cc721",
   "metadata": {},
   "outputs": [
    {
     "name": "stdout",
     "output_type": "stream",
     "text": [
      "<class 'pandas.core.frame.DataFrame'>\n",
      "RangeIndex: 6607 entries, 0 to 6606\n",
      "Data columns (total 21 columns):\n",
      " #   Column                      Non-Null Count  Dtype \n",
      "---  ------                      --------------  ----- \n",
      " 0   Hours_Studied               6607 non-null   int64 \n",
      " 1   Attendance                  6607 non-null   int64 \n",
      " 2   Parental_Involvement        6607 non-null   object\n",
      " 3   Access_to_Resources         6607 non-null   object\n",
      " 4   Extracurricular_Activities  6607 non-null   object\n",
      " 5   Sleep_Hours                 6607 non-null   int64 \n",
      " 6   Previous_Scores             6607 non-null   int64 \n",
      " 7   Motivation_Level            6607 non-null   object\n",
      " 8   Internet_Access             6607 non-null   object\n",
      " 9   Tutoring_Sessions           6607 non-null   int64 \n",
      " 10  Family_Income               6607 non-null   object\n",
      " 11  Teacher_Quality             6529 non-null   object\n",
      " 12  School_Type                 6607 non-null   object\n",
      " 13  Peer_Influence              6607 non-null   object\n",
      " 14  Physical_Activity           6607 non-null   int64 \n",
      " 15  Learning_Disabilities       6607 non-null   object\n",
      " 16  Parental_Education_Level    6517 non-null   object\n",
      " 17  Distance_from_Home          6540 non-null   object\n",
      " 18  Gender                      6607 non-null   object\n",
      " 19  Exam_Score                  6607 non-null   int64 \n",
      " 20  Average_Score               6607 non-null   int64 \n",
      "dtypes: int64(8), object(13)\n",
      "memory usage: 1.1+ MB\n"
     ]
    }
   ],
   "source": [
    "# Display the modified dataframe information.\n",
    "df.info()"
   ]
  },
  {
   "cell_type": "markdown",
   "id": "29fde879-4314-4685-92a1-1b55f9a05fb1",
   "metadata": {},
   "source": [
    "### Research Question 1"
   ]
  },
  {
   "cell_type": "code",
   "execution_count": 10,
   "id": "1c1c80fa-49f9-4482-b082-673a175018d2",
   "metadata": {},
   "outputs": [
    {
     "name": "stdout",
     "output_type": "stream",
     "text": [
      "The average percentage of classes students attend is 80%\n",
      "\n"
     ]
    }
   ],
   "source": [
    "# Determine the average attendance for a student\n",
    "# Because the values in Attendance are whole numbers, the average attendance is rounded\n",
    "# to remain consistent.\n",
    "attendanceAvg = round(np.mean(df[\"Attendance\"]))\n",
    "print(\"The average percentage of classes students attend is {0}%\\n\".format(attendanceAvg)) \n",
    "\n",
    "# Using the above value, create two data frames, one holding students with attendance at or \n",
    "# above the average (satAtt) and one holding those below the average (unsatAtt).\n",
    "satAtt = df[df[\"Attendance\"] >= attendanceAvg]\n",
    "unsatAtt = df[df[\"Attendance\"] < attendanceAvg] "
   ]
  },
  {
   "cell_type": "code",
   "execution_count": 11,
   "id": "b0e2bf60-35de-485d-b6ae-75040e3f14ff",
   "metadata": {},
   "outputs": [
    {
     "name": "stdout",
     "output_type": "stream",
     "text": [
      "satAtt dataframe:\n"
     ]
    },
    {
     "data": {
      "text/plain": [
       "0    84\n",
       "2    98\n",
       "3    89\n",
       "4    92\n",
       "5    88\n",
       "Name: Attendance, dtype: int64"
      ]
     },
     "execution_count": 11,
     "metadata": {},
     "output_type": "execute_result"
    }
   ],
   "source": [
    "# Check that satAtt holds the correct values.\n",
    "print(\"satAtt dataframe:\")\n",
    "satAtt[\"Attendance\"].head()"
   ]
  },
  {
   "cell_type": "code",
   "execution_count": 12,
   "id": "78386208-4dc5-4084-a02a-9b98b0a8ac1e",
   "metadata": {},
   "outputs": [
    {
     "name": "stdout",
     "output_type": "stream",
     "text": [
      "unsatAtt dataframe:\n"
     ]
    },
    {
     "data": {
      "text/plain": [
       "1     64\n",
       "7     78\n",
       "14    78\n",
       "15    68\n",
       "16    60\n",
       "Name: Attendance, dtype: int64"
      ]
     },
     "execution_count": 12,
     "metadata": {},
     "output_type": "execute_result"
    }
   ],
   "source": [
    "# Check that unsatAtt holds the correct values.\n",
    "print(\"unsatAtt dataframe:\")\n",
    "unsatAtt[\"Attendance\"].head()"
   ]
  },
  {
   "cell_type": "code",
   "execution_count": 13,
   "id": "1a14115f-b0c6-41bf-8b1c-e9b8362741b2",
   "metadata": {},
   "outputs": [
    {
     "name": "stdout",
     "output_type": "stream",
     "text": [
      "Students with attendance at or above 80% have an average exam score of 71.71\n",
      "Students with attendance below 80% have an average exam score of 70.07\n"
     ]
    }
   ],
   "source": [
    "# Determine the average score of student who have satisfactory attendance versus those who don't\n",
    "# To more accurately see the differences between the average scores of the two groups, they\n",
    "# are rounded to two decimal places.\n",
    "print(\"Students with attendance at or above {0:.0f}% have an average exam score of {1:.2f}\".format(attendanceAvg,\n",
    "                                                                                         satAtt[\"Average_Score\"].mean()))\n",
    "print(\"Students with attendance below {0:.0f}% have an average exam score of {1:.2f}\".format(attendanceAvg,\n",
    "                                                                                         unsatAtt[\"Average_Score\"].mean()))"
   ]
  },
  {
   "cell_type": "markdown",
   "id": "0a19948a-7ba0-4309-973c-bc58f5ca2001",
   "metadata": {},
   "source": [
    "These initial results show that, on average, students who have satisfactory attendance (above 80%) have higher exam scores than those who do not. How does this relationship change when examining it in relation to the quality of teachers at the school?"
   ]
  },
  {
   "cell_type": "code",
   "execution_count": 14,
   "id": "ead91b58-ced4-455d-84ef-53e996b37aef",
   "metadata": {},
   "outputs": [
    {
     "name": "stdout",
     "output_type": "stream",
     "text": [
      "Satisfactory Attendance:\n"
     ]
    },
    {
     "data": {
      "text/html": [
       "<div>\n",
       "<style scoped>\n",
       "    .dataframe tbody tr th:only-of-type {\n",
       "        vertical-align: middle;\n",
       "    }\n",
       "\n",
       "    .dataframe tbody tr th {\n",
       "        vertical-align: top;\n",
       "    }\n",
       "\n",
       "    .dataframe thead th {\n",
       "        text-align: right;\n",
       "    }\n",
       "</style>\n",
       "<table border=\"1\" class=\"dataframe\">\n",
       "  <thead>\n",
       "    <tr style=\"text-align: right;\">\n",
       "      <th></th>\n",
       "      <th>Average_Score</th>\n",
       "      <th>Avg_Attendance</th>\n",
       "    </tr>\n",
       "    <tr>\n",
       "      <th>Teacher_Quality</th>\n",
       "      <th></th>\n",
       "      <th></th>\n",
       "    </tr>\n",
       "  </thead>\n",
       "  <tbody>\n",
       "    <tr>\n",
       "      <th>Low</th>\n",
       "      <td>72.27</td>\n",
       "      <td>90.09</td>\n",
       "    </tr>\n",
       "    <tr>\n",
       "      <th>High</th>\n",
       "      <td>71.77</td>\n",
       "      <td>89.56</td>\n",
       "    </tr>\n",
       "    <tr>\n",
       "      <th>Medium</th>\n",
       "      <td>71.58</td>\n",
       "      <td>89.88</td>\n",
       "    </tr>\n",
       "  </tbody>\n",
       "</table>\n",
       "</div>"
      ],
      "text/plain": [
       "                 Average_Score  Avg_Attendance\n",
       "Teacher_Quality                               \n",
       "Low                      72.27           90.09\n",
       "High                     71.77           89.56\n",
       "Medium                   71.58           89.88"
      ]
     },
     "metadata": {},
     "output_type": "display_data"
    },
    {
     "name": "stdout",
     "output_type": "stream",
     "text": [
      "Unsatisfactory Attendance:\n"
     ]
    },
    {
     "data": {
      "text/html": [
       "<div>\n",
       "<style scoped>\n",
       "    .dataframe tbody tr th:only-of-type {\n",
       "        vertical-align: middle;\n",
       "    }\n",
       "\n",
       "    .dataframe tbody tr th {\n",
       "        vertical-align: top;\n",
       "    }\n",
       "\n",
       "    .dataframe thead th {\n",
       "        text-align: right;\n",
       "    }\n",
       "</style>\n",
       "<table border=\"1\" class=\"dataframe\">\n",
       "  <thead>\n",
       "    <tr style=\"text-align: right;\">\n",
       "      <th></th>\n",
       "      <th>Average_Score</th>\n",
       "      <th>Avg_Attendance</th>\n",
       "    </tr>\n",
       "    <tr>\n",
       "      <th>Teacher_Quality</th>\n",
       "      <th></th>\n",
       "      <th></th>\n",
       "    </tr>\n",
       "  </thead>\n",
       "  <tbody>\n",
       "    <tr>\n",
       "      <th>High</th>\n",
       "      <td>70.68</td>\n",
       "      <td>69.80</td>\n",
       "    </tr>\n",
       "    <tr>\n",
       "      <th>Low</th>\n",
       "      <td>70.04</td>\n",
       "      <td>69.63</td>\n",
       "    </tr>\n",
       "    <tr>\n",
       "      <th>Medium</th>\n",
       "      <td>69.76</td>\n",
       "      <td>69.90</td>\n",
       "    </tr>\n",
       "  </tbody>\n",
       "</table>\n",
       "</div>"
      ],
      "text/plain": [
       "                 Average_Score  Avg_Attendance\n",
       "Teacher_Quality                               \n",
       "High                     70.68           69.80\n",
       "Low                      70.04           69.63\n",
       "Medium                   69.76           69.90"
      ]
     },
     "metadata": {},
     "output_type": "display_data"
    }
   ],
   "source": [
    "# Group the satAtt dataframe by \"Teacher_Quality\" and use the agg() function to display the\n",
    "# average score and average attendance for each group.\n",
    "# By default, groupby will drop the NaN values in Teacher_Quality.\n",
    "satAttGrp = satAtt.groupby(\"Teacher_Quality\").agg(\n",
    "    Average_Score = (\"Average_Score\", \"mean\"),\n",
    "    Avg_Attendance = (\"Attendance\", \"mean\")\n",
    "    )\n",
    "\n",
    "# Round the average scores to two decimal paces for readability and more accurate comparisons.\n",
    "satAttGrp[\"Average_Score\"] = satAttGrp[\"Average_Score\"].round(2)\n",
    "satAttGrp[\"Avg_Attendance\"] = satAttGrp[\"Avg_Attendance\"].round(2)\n",
    "\n",
    "# Repeat the above code for the unsatAtt dataframe.\n",
    "unsatAttGrp = unsatAtt.groupby(\"Teacher_Quality\").agg(\n",
    "    Average_Score = (\"Average_Score\", \"mean\"),\n",
    "    Avg_Attendance = (\"Attendance\", \"mean\")\n",
    "    )\n",
    "\n",
    "unsatAttGrp[\"Average_Score\"] = unsatAttGrp[\"Average_Score\"].round(2)\n",
    "unsatAttGrp[\"Avg_Attendance\"] = unsatAttGrp[\"Avg_Attendance\"].round(2)\n",
    "\n",
    "# Display both dataframes, sorting from highest to lowest average score.\n",
    "# Use the display function instead of print so the dataframe is shown as a formatted (and better looking) table.\n",
    "print(\"Satisfactory Attendance:\")\n",
    "display(satAttGrp.sort_values(by = \"Average_Score\", ascending = False)) \n",
    "\n",
    "print(\"Unsatisfactory Attendance:\")\n",
    "display(unsatAttGrp.sort_values(by = \"Average_Score\", ascending = False))"
   ]
  },
  {
   "cell_type": "markdown",
   "id": "2a744f8f-97a7-4483-8418-fa8285d79cb8",
   "metadata": {},
   "source": [
    "These final results reinforce that students with higher attendance have higher exam scores. By extending this relationship to teacher quality, this shows that of the students who attend more classes, those with lower-quality teachers have higher exam scores. In contrast, students who attend fewer classes and those with higher-quality teachers have higher exam scores. For both attendance groups, students with medium-quality teachers have the lowest average exam scores, even if they attend more classes than the other groups. This is interesting, as the expected result was that for both attendance groups, the average score would increase as the teacher quality improved. These results could be interpreted that students who attend class learn more, resulting in better exam scores, and students who attend class learn less, resulting in lower exam scores. For those who have below-average class attendance, having a higher-quality teacher benefits their exam scores more than those who do. It's possible that because of their high-quality teachers, these students still learn and retain information despite missing class. It is reasonable to conclude that class attendance has a greater impact on student exam scores than teacher quality. Teacher quality will have a slight impact on a student's exam scores, and that impact becomes greater if they have below-average attendance."
   ]
  },
  {
   "cell_type": "markdown",
   "id": "51c092aa-de85-41fb-9c67-7ec8f5c6482c",
   "metadata": {},
   "source": [
    "### Research Question 2"
   ]
  },
  {
   "cell_type": "markdown",
   "id": "f7c7f997-25b6-4eae-bd71-ca40d556aa28",
   "metadata": {},
   "source": [
    "The following analysis operates based on the recommendation from the National Sleep Foundation that adolescents require about 8-10 hours of sleep per night. \n",
    "\n",
    "https://www.thensf.org/what-to-know-about-teens-and-sleep/"
   ]
  },
  {
   "cell_type": "code",
   "execution_count": 15,
   "id": "6c6c3bf6-100f-45d5-97d9-b553f450d682",
   "metadata": {},
   "outputs": [
    {
     "name": "stdout",
     "output_type": "stream",
     "text": [
      "Unique Sleep Hours: [ 7  8  6 10  9  5  4]\n",
      "Unique Physical Activity: [3 4 2 1 5 0 6]\n"
     ]
    }
   ],
   "source": [
    "# Find the unique values for \"Sleep_Hours\" and \"Physical_Activity\" to determine if they can be \n",
    "# easily grouped.\n",
    "print(\"Unique Sleep Hours:\", df[\"Sleep_Hours\"].unique())\n",
    "print(\"Unique Physical Activity:\", df[\"Physical_Activity\"].unique())"
   ]
  },
  {
   "cell_type": "code",
   "execution_count": 16,
   "id": "7cbbd602-faf4-43af-bed7-6a085f7df4f5",
   "metadata": {},
   "outputs": [
    {
     "data": {
      "text/html": [
       "<div>\n",
       "<style scoped>\n",
       "    .dataframe tbody tr th:only-of-type {\n",
       "        vertical-align: middle;\n",
       "    }\n",
       "\n",
       "    .dataframe tbody tr th {\n",
       "        vertical-align: top;\n",
       "    }\n",
       "\n",
       "    .dataframe thead th {\n",
       "        text-align: right;\n",
       "    }\n",
       "</style>\n",
       "<table border=\"1\" class=\"dataframe\">\n",
       "  <thead>\n",
       "    <tr style=\"text-align: right;\">\n",
       "      <th></th>\n",
       "      <th>Sleep_Hours</th>\n",
       "      <th>Sleep_Level</th>\n",
       "    </tr>\n",
       "  </thead>\n",
       "  <tbody>\n",
       "    <tr>\n",
       "      <th>0</th>\n",
       "      <td>7</td>\n",
       "      <td>Low</td>\n",
       "    </tr>\n",
       "    <tr>\n",
       "      <th>1</th>\n",
       "      <td>8</td>\n",
       "      <td>Good</td>\n",
       "    </tr>\n",
       "    <tr>\n",
       "      <th>2</th>\n",
       "      <td>7</td>\n",
       "      <td>Low</td>\n",
       "    </tr>\n",
       "    <tr>\n",
       "      <th>3</th>\n",
       "      <td>8</td>\n",
       "      <td>Good</td>\n",
       "    </tr>\n",
       "    <tr>\n",
       "      <th>4</th>\n",
       "      <td>6</td>\n",
       "      <td>Low</td>\n",
       "    </tr>\n",
       "  </tbody>\n",
       "</table>\n",
       "</div>"
      ],
      "text/plain": [
       "   Sleep_Hours Sleep_Level\n",
       "0            7         Low\n",
       "1            8        Good\n",
       "2            7         Low\n",
       "3            8        Good\n",
       "4            6         Low"
      ]
     },
     "execution_count": 16,
     "metadata": {},
     "output_type": "execute_result"
    }
   ],
   "source": [
    "# Based on the unique sleep hours, create a new column Sleep_Level and \n",
    "# divide the dataframe into segments.\n",
    "# Very_Low: 4-5 hrs, Low: 6-7 hrs, Good: 8-10 hrs\n",
    "# Source Used: GeeksforGeeks.org\n",
    "df[\"Sleep_Level\"] = pd.cut(df[\"Sleep_Hours\"], [3, 5, 7, 10], labels = [\"Very_Low\", \"Low\", \"Good\"])\n",
    "\n",
    "# Check that df has been divided correctly\n",
    "df[[\"Sleep_Hours\", \"Sleep_Level\"]].head()"
   ]
  },
  {
   "cell_type": "code",
   "execution_count": 17,
   "id": "aef57165-79b0-4fc9-a3d8-309751fb3f9e",
   "metadata": {},
   "outputs": [
    {
     "data": {
      "text/html": [
       "<div>\n",
       "<style scoped>\n",
       "    .dataframe tbody tr th:only-of-type {\n",
       "        vertical-align: middle;\n",
       "    }\n",
       "\n",
       "    .dataframe tbody tr th {\n",
       "        vertical-align: top;\n",
       "    }\n",
       "\n",
       "    .dataframe thead th {\n",
       "        text-align: right;\n",
       "    }\n",
       "</style>\n",
       "<table border=\"1\" class=\"dataframe\">\n",
       "  <thead>\n",
       "    <tr style=\"text-align: right;\">\n",
       "      <th></th>\n",
       "      <th>Sleep_Hours</th>\n",
       "      <th>Sleep_Level</th>\n",
       "    </tr>\n",
       "  </thead>\n",
       "  <tbody>\n",
       "    <tr>\n",
       "      <th>1</th>\n",
       "      <td>8</td>\n",
       "      <td>Good</td>\n",
       "    </tr>\n",
       "    <tr>\n",
       "      <th>3</th>\n",
       "      <td>8</td>\n",
       "      <td>Good</td>\n",
       "    </tr>\n",
       "    <tr>\n",
       "      <th>5</th>\n",
       "      <td>8</td>\n",
       "      <td>Good</td>\n",
       "    </tr>\n",
       "    <tr>\n",
       "      <th>9</th>\n",
       "      <td>8</td>\n",
       "      <td>Good</td>\n",
       "    </tr>\n",
       "    <tr>\n",
       "      <th>10</th>\n",
       "      <td>8</td>\n",
       "      <td>Good</td>\n",
       "    </tr>\n",
       "  </tbody>\n",
       "</table>\n",
       "</div>"
      ],
      "text/plain": [
       "    Sleep_Hours Sleep_Level\n",
       "1             8        Good\n",
       "3             8        Good\n",
       "5             8        Good\n",
       "9             8        Good\n",
       "10            8        Good"
      ]
     },
     "metadata": {},
     "output_type": "display_data"
    },
    {
     "data": {
      "text/html": [
       "<div>\n",
       "<style scoped>\n",
       "    .dataframe tbody tr th:only-of-type {\n",
       "        vertical-align: middle;\n",
       "    }\n",
       "\n",
       "    .dataframe tbody tr th {\n",
       "        vertical-align: top;\n",
       "    }\n",
       "\n",
       "    .dataframe thead th {\n",
       "        text-align: right;\n",
       "    }\n",
       "</style>\n",
       "<table border=\"1\" class=\"dataframe\">\n",
       "  <thead>\n",
       "    <tr style=\"text-align: right;\">\n",
       "      <th></th>\n",
       "      <th>Sleep_Hours</th>\n",
       "      <th>Sleep_Level</th>\n",
       "    </tr>\n",
       "  </thead>\n",
       "  <tbody>\n",
       "    <tr>\n",
       "      <th>0</th>\n",
       "      <td>7</td>\n",
       "      <td>Low</td>\n",
       "    </tr>\n",
       "    <tr>\n",
       "      <th>2</th>\n",
       "      <td>7</td>\n",
       "      <td>Low</td>\n",
       "    </tr>\n",
       "    <tr>\n",
       "      <th>4</th>\n",
       "      <td>6</td>\n",
       "      <td>Low</td>\n",
       "    </tr>\n",
       "    <tr>\n",
       "      <th>6</th>\n",
       "      <td>7</td>\n",
       "      <td>Low</td>\n",
       "    </tr>\n",
       "    <tr>\n",
       "      <th>7</th>\n",
       "      <td>6</td>\n",
       "      <td>Low</td>\n",
       "    </tr>\n",
       "  </tbody>\n",
       "</table>\n",
       "</div>"
      ],
      "text/plain": [
       "   Sleep_Hours Sleep_Level\n",
       "0            7         Low\n",
       "2            7         Low\n",
       "4            6         Low\n",
       "6            7         Low\n",
       "7            6         Low"
      ]
     },
     "metadata": {},
     "output_type": "display_data"
    },
    {
     "data": {
      "text/html": [
       "<div>\n",
       "<style scoped>\n",
       "    .dataframe tbody tr th:only-of-type {\n",
       "        vertical-align: middle;\n",
       "    }\n",
       "\n",
       "    .dataframe tbody tr th {\n",
       "        vertical-align: top;\n",
       "    }\n",
       "\n",
       "    .dataframe thead th {\n",
       "        text-align: right;\n",
       "    }\n",
       "</style>\n",
       "<table border=\"1\" class=\"dataframe\">\n",
       "  <thead>\n",
       "    <tr style=\"text-align: right;\">\n",
       "      <th></th>\n",
       "      <th>Sleep_Hours</th>\n",
       "      <th>Sleep_Level</th>\n",
       "    </tr>\n",
       "  </thead>\n",
       "  <tbody>\n",
       "    <tr>\n",
       "      <th>20</th>\n",
       "      <td>5</td>\n",
       "      <td>Very_Low</td>\n",
       "    </tr>\n",
       "    <tr>\n",
       "      <th>24</th>\n",
       "      <td>5</td>\n",
       "      <td>Very_Low</td>\n",
       "    </tr>\n",
       "    <tr>\n",
       "      <th>28</th>\n",
       "      <td>4</td>\n",
       "      <td>Very_Low</td>\n",
       "    </tr>\n",
       "    <tr>\n",
       "      <th>29</th>\n",
       "      <td>4</td>\n",
       "      <td>Very_Low</td>\n",
       "    </tr>\n",
       "    <tr>\n",
       "      <th>33</th>\n",
       "      <td>5</td>\n",
       "      <td>Very_Low</td>\n",
       "    </tr>\n",
       "  </tbody>\n",
       "</table>\n",
       "</div>"
      ],
      "text/plain": [
       "    Sleep_Hours Sleep_Level\n",
       "20            5    Very_Low\n",
       "24            5    Very_Low\n",
       "28            4    Very_Low\n",
       "29            4    Very_Low\n",
       "33            5    Very_Low"
      ]
     },
     "metadata": {},
     "output_type": "display_data"
    }
   ],
   "source": [
    "# Subset df into 3 separate dataframes for each Sleep_Level.\n",
    "veryLow = df[df[\"Sleep_Level\"] == \"Very_Low\"]\n",
    "low = df[df[\"Sleep_Level\"] == \"Low\"]\n",
    "good = df[df[\"Sleep_Level\"] == \"Good\"]\n",
    "\n",
    "# Check each dataframe has been divided correctly (using the display function as in previous code).\n",
    "display(good[[\"Sleep_Hours\", \"Sleep_Level\"]].head())\n",
    "display(low[[\"Sleep_Hours\", \"Sleep_Level\"]].head())\n",
    "display(veryLow[[\"Sleep_Hours\", \"Sleep_Level\"]].head())"
   ]
  },
  {
   "cell_type": "code",
   "execution_count": 18,
   "id": "c62ca7c9-0db0-4505-8cfd-cfa229a493c8",
   "metadata": {},
   "outputs": [
    {
     "name": "stdout",
     "output_type": "stream",
     "text": [
      "8-10 hours of sleep:\n",
      "Mean Exam Score: 70.71\n"
     ]
    },
    {
     "data": {
      "text/html": [
       "<div>\n",
       "<style scoped>\n",
       "    .dataframe tbody tr th:only-of-type {\n",
       "        vertical-align: middle;\n",
       "    }\n",
       "\n",
       "    .dataframe tbody tr th {\n",
       "        vertical-align: top;\n",
       "    }\n",
       "\n",
       "    .dataframe thead th {\n",
       "        text-align: right;\n",
       "    }\n",
       "</style>\n",
       "<table border=\"1\" class=\"dataframe\">\n",
       "  <thead>\n",
       "    <tr style=\"text-align: right;\">\n",
       "      <th></th>\n",
       "      <th>Average_Score</th>\n",
       "    </tr>\n",
       "    <tr>\n",
       "      <th>Physical_Activity</th>\n",
       "      <th></th>\n",
       "    </tr>\n",
       "  </thead>\n",
       "  <tbody>\n",
       "    <tr>\n",
       "      <th>0</th>\n",
       "      <td>73.60</td>\n",
       "    </tr>\n",
       "    <tr>\n",
       "      <th>6</th>\n",
       "      <td>72.50</td>\n",
       "    </tr>\n",
       "    <tr>\n",
       "      <th>4</th>\n",
       "      <td>70.91</td>\n",
       "    </tr>\n",
       "    <tr>\n",
       "      <th>1</th>\n",
       "      <td>70.86</td>\n",
       "    </tr>\n",
       "    <tr>\n",
       "      <th>3</th>\n",
       "      <td>70.75</td>\n",
       "    </tr>\n",
       "    <tr>\n",
       "      <th>2</th>\n",
       "      <td>70.49</td>\n",
       "    </tr>\n",
       "    <tr>\n",
       "      <th>5</th>\n",
       "      <td>69.66</td>\n",
       "    </tr>\n",
       "  </tbody>\n",
       "</table>\n",
       "</div>"
      ],
      "text/plain": [
       "                   Average_Score\n",
       "Physical_Activity               \n",
       "0                          73.60\n",
       "6                          72.50\n",
       "4                          70.91\n",
       "1                          70.86\n",
       "3                          70.75\n",
       "2                          70.49\n",
       "5                          69.66"
      ]
     },
     "metadata": {},
     "output_type": "display_data"
    },
    {
     "name": "stdout",
     "output_type": "stream",
     "text": [
      "6-7 hours of sleep:\n",
      "Mean Exam Score: 70.98\n"
     ]
    },
    {
     "data": {
      "text/html": [
       "<div>\n",
       "<style scoped>\n",
       "    .dataframe tbody tr th:only-of-type {\n",
       "        vertical-align: middle;\n",
       "    }\n",
       "\n",
       "    .dataframe tbody tr th {\n",
       "        vertical-align: top;\n",
       "    }\n",
       "\n",
       "    .dataframe thead th {\n",
       "        text-align: right;\n",
       "    }\n",
       "</style>\n",
       "<table border=\"1\" class=\"dataframe\">\n",
       "  <thead>\n",
       "    <tr style=\"text-align: right;\">\n",
       "      <th></th>\n",
       "      <th>Average_Score</th>\n",
       "    </tr>\n",
       "    <tr>\n",
       "      <th>Physical_Activity</th>\n",
       "      <th></th>\n",
       "    </tr>\n",
       "  </thead>\n",
       "  <tbody>\n",
       "    <tr>\n",
       "      <th>0</th>\n",
       "      <td>75.00</td>\n",
       "    </tr>\n",
       "    <tr>\n",
       "      <th>2</th>\n",
       "      <td>71.16</td>\n",
       "    </tr>\n",
       "    <tr>\n",
       "      <th>5</th>\n",
       "      <td>71.04</td>\n",
       "    </tr>\n",
       "    <tr>\n",
       "      <th>1</th>\n",
       "      <td>70.99</td>\n",
       "    </tr>\n",
       "    <tr>\n",
       "      <th>3</th>\n",
       "      <td>70.97</td>\n",
       "    </tr>\n",
       "    <tr>\n",
       "      <th>4</th>\n",
       "      <td>70.69</td>\n",
       "    </tr>\n",
       "    <tr>\n",
       "      <th>6</th>\n",
       "      <td>70.64</td>\n",
       "    </tr>\n",
       "  </tbody>\n",
       "</table>\n",
       "</div>"
      ],
      "text/plain": [
       "                   Average_Score\n",
       "Physical_Activity               \n",
       "0                          75.00\n",
       "2                          71.16\n",
       "5                          71.04\n",
       "1                          70.99\n",
       "3                          70.97\n",
       "4                          70.69\n",
       "6                          70.64"
      ]
     },
     "metadata": {},
     "output_type": "display_data"
    },
    {
     "name": "stdout",
     "output_type": "stream",
     "text": [
      "4-5 hours of sleep:\n",
      "Mean Exam Score: 71.14\n"
     ]
    },
    {
     "data": {
      "text/html": [
       "<div>\n",
       "<style scoped>\n",
       "    .dataframe tbody tr th:only-of-type {\n",
       "        vertical-align: middle;\n",
       "    }\n",
       "\n",
       "    .dataframe tbody tr th {\n",
       "        vertical-align: top;\n",
       "    }\n",
       "\n",
       "    .dataframe thead th {\n",
       "        text-align: right;\n",
       "    }\n",
       "</style>\n",
       "<table border=\"1\" class=\"dataframe\">\n",
       "  <thead>\n",
       "    <tr style=\"text-align: right;\">\n",
       "      <th></th>\n",
       "      <th>Average_Score</th>\n",
       "    </tr>\n",
       "    <tr>\n",
       "      <th>Physical_Activity</th>\n",
       "      <th></th>\n",
       "    </tr>\n",
       "  </thead>\n",
       "  <tbody>\n",
       "    <tr>\n",
       "      <th>3</th>\n",
       "      <td>71.84</td>\n",
       "    </tr>\n",
       "    <tr>\n",
       "      <th>5</th>\n",
       "      <td>71.83</td>\n",
       "    </tr>\n",
       "    <tr>\n",
       "      <th>4</th>\n",
       "      <td>71.18</td>\n",
       "    </tr>\n",
       "    <tr>\n",
       "      <th>0</th>\n",
       "      <td>71.00</td>\n",
       "    </tr>\n",
       "    <tr>\n",
       "      <th>6</th>\n",
       "      <td>70.60</td>\n",
       "    </tr>\n",
       "    <tr>\n",
       "      <th>2</th>\n",
       "      <td>70.48</td>\n",
       "    </tr>\n",
       "    <tr>\n",
       "      <th>1</th>\n",
       "      <td>69.11</td>\n",
       "    </tr>\n",
       "  </tbody>\n",
       "</table>\n",
       "</div>"
      ],
      "text/plain": [
       "                   Average_Score\n",
       "Physical_Activity               \n",
       "3                          71.84\n",
       "5                          71.83\n",
       "4                          71.18\n",
       "0                          71.00\n",
       "6                          70.60\n",
       "2                          70.48\n",
       "1                          69.11"
      ]
     },
     "metadata": {},
     "output_type": "display_data"
    }
   ],
   "source": [
    "# Group each dataframe by \"Physical_Activity\" and use the agg function to calculate \n",
    "# the average exam score for each.\n",
    "# Then, sort the information is descending order by Average_Score\n",
    "# Also display the mean exam score for each sleep level\n",
    "# Round the average scores to two decimal paces for readability and more accurate comparisons.\n",
    "print(\"8-10 hours of sleep:\")\n",
    "print(\"Mean Exam Score:\", good[\"Average_Score\"].mean().round(2))\n",
    "display(good.groupby([\"Physical_Activity\"]).agg({\"Average_Score\": \"mean\"}).round(2).sort_values(by = \"Average_Score\", ascending = False))\n",
    "\n",
    "print(\"6-7 hours of sleep:\")\n",
    "print(\"Mean Exam Score:\", low[\"Average_Score\"].mean().round(2))\n",
    "display(low.groupby([\"Physical_Activity\"]).agg({\"Average_Score\": \"mean\"}).round(2).sort_values(by = \"Average_Score\", ascending = False))\n",
    "\n",
    "print(\"4-5 hours of sleep:\")\n",
    "print(\"Mean Exam Score:\", veryLow[\"Average_Score\"].mean().round(2))\n",
    "display(veryLow.groupby([\"Physical_Activity\"]).agg({\"Average_Score\": \"mean\"}).round(2).sort_values(by = \"Average_Score\", ascending = False))"
   ]
  },
  {
   "cell_type": "markdown",
   "id": "df20ddc4-2b52-4a3c-861a-9bc9cfb2d414",
   "metadata": {},
   "source": [
    "These preliminary results seem to indicate that students who get the recomended amount of sleep have the worst average exam performance, while those who get the least amount actually perform the best. This relationship will be discussed more later. As these results do not provide a clear relationship between sleep, physical activity, and exam scores, a line graph will be used to better visualize the correlation."
   ]
  },
  {
   "cell_type": "code",
   "execution_count": 19,
   "id": "0fb3aa2b-ae8c-4924-a89c-b6c9de74ef11",
   "metadata": {},
   "outputs": [
    {
     "data": {
      "image/png": "[encoded data removed]",
      "text/plain": [
       "<Figure size 640x480 with 1 Axes>"
      ]
     },
     "metadata": {},
     "output_type": "display_data"
    }
   ],
   "source": [
    "# To better visualize the relationship between Sleep, Physical Activity, and Exam Scores, create a grouped line graph.\n",
    "# Group each sleep level by physical activity and get the mean average score for each group.\n",
    "# Store the groups into 3 seperate dataframes used for the graph\n",
    "goodDf = good.groupby('Physical_Activity')['Average_Score'].mean()\n",
    "lowDf = low.groupby('Physical_Activity')['Average_Score'].mean()\n",
    "veryLowDf = veryLow.groupby('Physical_Activity')['Average_Score'].mean()\n",
    "\n",
    "# Graph each sleep group as thier own line\n",
    "plt.plot(goodDf, label = \"8-10 hrs\")\n",
    "plt.plot(lowDf, label = \"6-7 hrs\")\n",
    "plt.plot(veryLowDf, label = \"4-5 hrs\")\n",
    "\n",
    "# Show labels and the legend for clarity\n",
    "plt.xlabel(\"Physical Activity\")\n",
    "plt.ylabel(\"Average Score\")\n",
    "plt.legend()\n",
    "\n",
    "plt.show()"
   ]
  },
  {
   "cell_type": "markdown",
   "id": "e2b30933-32c5-4f7c-b58f-400c90aaa457",
   "metadata": {},
   "source": [
    "The graph above shows the relationship between physical activity (x-axis) and average exam scores (y-axis). Each line represents a different sleep level group, with the data points showing the average exam score of each group at different levels of physical activity. This visualization shows that, for levels of sleep 6 hours and above, students who have no physical activity have the best exam scores. For students who get 4-5 hours of sleep, those who get a moderate amount of physical activity have the best exam scores. For all the sleep levels, exam scores plummet from 0 hours to 1 hour of physical activity. It's also interesting to note that of the students who get 6 hours of physical activity, those who get the recommended amount of sleep have significantly better scores than those who do not. This visualization also reinforces the earlier relation found, where students who get the least amount of sleep have higher average scores. However, the 4-5 and 6-7 hour groups both have larger ranges and more extremes than the 8-10 group, which could indicate the presence of outliers skewing the data. To quickly check this assumption, a boxplot will be used to examine the distribution of the average exam score for each sleep group."
   ]
  },
  {
   "cell_type": "code",
   "execution_count": 20,
   "id": "45659dab-2108-4153-b95e-2dd16d795170",
   "metadata": {},
   "outputs": [
    {
     "data": {
      "image/png": "[encoded data removed]",
      "text/plain": [
       "<Figure size 640x480 with 1 Axes>"
      ]
     },
     "metadata": {},
     "output_type": "display_data"
    }
   ],
   "source": [
    "# Create a grouped boxplot to better examine the average exam scores for each sleep group.\n",
    "plt.boxplot([veryLow[\"Average_Score\"], low[\"Average_Score\"], good[\"Average_Score\"]],\n",
    "           labels = [\"4-5 hours\", \"6-7 hours\", \"8-10 hours\"])\n",
    "\n",
    "plt.ylabel(\"Average Score\")\n",
    "plt.show()"
   ]
  },
  {
   "cell_type": "markdown",
   "id": "d0f61c13-f7d4-4fd9-be9b-2b637dd37fb7",
   "metadata": {},
   "source": [
    "The visualization above shows that all three sleep groups have similar ranges and medians. However, the 4-5 and 6-7 hour group both have outliers as speculated. To more accurately visualize the relationship between sleep, physical activity, and exam scores, a new line graph will be generated using the median average score instead of the mean. In the case of using data with some skew, the median provides a more accurate representation."
   ]
  },
  {
   "cell_type": "code",
   "execution_count": 21,
   "id": "dbd76019-aa1d-41bb-bd40-a600819e624f",
   "metadata": {},
   "outputs": [
    {
     "data": {
      "image/png": "[encoded data removed]",
      "text/plain": [
       "<Figure size 640x480 with 1 Axes>"
      ]
     },
     "metadata": {},
     "output_type": "display_data"
    }
   ],
   "source": [
    "# Recreate the grouped line graph, using the median average score instead of the mean\n",
    "goodDf = good.groupby('Physical_Activity')['Average_Score'].median()\n",
    "lowDf = low.groupby('Physical_Activity')['Average_Score'].median()\n",
    "veryLowDf = veryLow.groupby('Physical_Activity')['Average_Score'].median()\n",
    "\n",
    "plt.plot(goodDf, label = \"8-10 hrs\")\n",
    "plt.plot(lowDf, label = \"6-7 hrs\")\n",
    "plt.plot(veryLowDf, label = \"4-5 hrs\")\n",
    "\n",
    "plt.xlabel(\"Physical Activity\")\n",
    "plt.ylabel(\"Average Score\")\n",
    "plt.legend()\n",
    "\n",
    "plt.show()"
   ]
  },
  {
   "cell_type": "markdown",
   "id": "3a417077-4023-40cd-b1ce-6374f3750e2d",
   "metadata": {},
   "source": [
    "This new graph reinforces some of the conclusions made earlier based on the previous line graphs. Those who have a high amount of physical activity perform better if they get the recommended amount of sleep; those who sleep 6 hours or more and do no physical activity perform the best, and students who get 4-5 hours of sleep perform better if they get a moderate amount of physical activity. However, this graph more clearly shows that students who get a very low amount of sleep have more inconsistent exam performances overall. The 8-10 and 6-7 sleep groups follow fairly similar trends, but the 4-5 group differs tremendously and has considerably lower scores on the extreme ends of physical activity. A few conclusions can be made based on this data. Sleep has a meaningful impact on student performance, with those getting much less than the recommended amount performing worse or inconsistently compared to their peers who get more sleep. Physical activity only seems to play a significant role in this relationship at the extremes. Students who do absolutely no physical activity may have more time to focus on schoolwork, explaining the higher scores for those who get 6+ hours of sleep. Students who are extremely active would need more rest to recover their energy, and those who don't get that rest have worse exam grades as a result. What's interesting is that students who get a few hours less than the recommended amount of sleep perform slightly better than the ones that do. There could be many different explanations for this apparent trend. It's clear that sleep, physical activity, and wellness overall have a complicated relationship with a student's performance in school. It's something worth further exploration in the future."
   ]
  },
  {
   "cell_type": "markdown",
   "id": "3b0512c1-fcd5-403c-8384-595ed77f2889",
   "metadata": {},
   "source": [
    "### Research Question 3"
   ]
  },
  {
   "cell_type": "code",
   "execution_count": 22,
   "id": "504278af-c865-4592-9f62-0fd59f6bdcc2",
   "metadata": {},
   "outputs": [
    {
     "data": {
      "text/html": [
       "<div>\n",
       "<style scoped>\n",
       "    .dataframe tbody tr th:only-of-type {\n",
       "        vertical-align: middle;\n",
       "    }\n",
       "\n",
       "    .dataframe tbody tr th {\n",
       "        vertical-align: top;\n",
       "    }\n",
       "\n",
       "    .dataframe thead th {\n",
       "        text-align: right;\n",
       "    }\n",
       "</style>\n",
       "<table border=\"1\" class=\"dataframe\">\n",
       "  <thead>\n",
       "    <tr style=\"text-align: right;\">\n",
       "      <th></th>\n",
       "      <th>Motivation_Level</th>\n",
       "      <th>Learning_Disabilities</th>\n",
       "    </tr>\n",
       "  </thead>\n",
       "  <tbody>\n",
       "    <tr>\n",
       "      <th>26</th>\n",
       "      <td>Medium</td>\n",
       "      <td>True</td>\n",
       "    </tr>\n",
       "    <tr>\n",
       "      <th>30</th>\n",
       "      <td>Medium</td>\n",
       "      <td>True</td>\n",
       "    </tr>\n",
       "    <tr>\n",
       "      <th>41</th>\n",
       "      <td>Low</td>\n",
       "      <td>True</td>\n",
       "    </tr>\n",
       "    <tr>\n",
       "      <th>43</th>\n",
       "      <td>Medium</td>\n",
       "      <td>True</td>\n",
       "    </tr>\n",
       "    <tr>\n",
       "      <th>54</th>\n",
       "      <td>Low</td>\n",
       "      <td>True</td>\n",
       "    </tr>\n",
       "  </tbody>\n",
       "</table>\n",
       "</div>"
      ],
      "text/plain": [
       "   Motivation_Level Learning_Disabilities\n",
       "26           Medium                  True\n",
       "30           Medium                  True\n",
       "41              Low                  True\n",
       "43           Medium                  True\n",
       "54              Low                  True"
      ]
     },
     "metadata": {},
     "output_type": "display_data"
    },
    {
     "data": {
      "text/html": [
       "<div>\n",
       "<style scoped>\n",
       "    .dataframe tbody tr th:only-of-type {\n",
       "        vertical-align: middle;\n",
       "    }\n",
       "\n",
       "    .dataframe tbody tr th {\n",
       "        vertical-align: top;\n",
       "    }\n",
       "\n",
       "    .dataframe thead th {\n",
       "        text-align: right;\n",
       "    }\n",
       "</style>\n",
       "<table border=\"1\" class=\"dataframe\">\n",
       "  <thead>\n",
       "    <tr style=\"text-align: right;\">\n",
       "      <th></th>\n",
       "      <th>Motivation_Level</th>\n",
       "      <th>Learning_Disabilities</th>\n",
       "    </tr>\n",
       "  </thead>\n",
       "  <tbody>\n",
       "    <tr>\n",
       "      <th>0</th>\n",
       "      <td>Low</td>\n",
       "      <td>False</td>\n",
       "    </tr>\n",
       "    <tr>\n",
       "      <th>1</th>\n",
       "      <td>Low</td>\n",
       "      <td>False</td>\n",
       "    </tr>\n",
       "    <tr>\n",
       "      <th>2</th>\n",
       "      <td>Medium</td>\n",
       "      <td>False</td>\n",
       "    </tr>\n",
       "    <tr>\n",
       "      <th>3</th>\n",
       "      <td>Medium</td>\n",
       "      <td>False</td>\n",
       "    </tr>\n",
       "    <tr>\n",
       "      <th>4</th>\n",
       "      <td>Medium</td>\n",
       "      <td>False</td>\n",
       "    </tr>\n",
       "  </tbody>\n",
       "</table>\n",
       "</div>"
      ],
      "text/plain": [
       "  Motivation_Level Learning_Disabilities\n",
       "0              Low                 False\n",
       "1              Low                 False\n",
       "2           Medium                 False\n",
       "3           Medium                 False\n",
       "4           Medium                 False"
      ]
     },
     "metadata": {},
     "output_type": "display_data"
    }
   ],
   "source": [
    "# Filter df to only include the columns Motivation_Level and Learning_Disabilities.\n",
    "# Store it in a temporary dataframe.\n",
    "tempDf = df[[\"Motivation_Level\", \"Learning_Disabilities\"]]\n",
    "\n",
    "# Use the temporary data frame and filter it based on whether Learning_Disabilities is True or False.\n",
    "# Store the results into the corresponding dataframe.\n",
    "hasDisability = tempDf[tempDf[\"Learning_Disabilities\"]]\n",
    "noDisability = tempDf[tempDf[\"Learning_Disabilities\"] == False]\n",
    "\n",
    "# Check the contents of eah dataframe.\n",
    "display(hasDisability.head())\n",
    "display(noDisability.head())"
   ]
  },
  {
   "cell_type": "markdown",
   "id": "6bb73b16-eca5-458b-a319-c0364cf8c064",
   "metadata": {},
   "source": [
    "With this data, finding the motivation level each student reports is the best way to investigate question 3. Because many more students in this dataset do not have a learning disability, finding the percentage of different motivations levels will ensure the results can be compared fairly."
   ]
  },
  {
   "cell_type": "code",
   "execution_count": 23,
   "id": "e30d3f8f-7246-4e17-8d9d-79d2f56f8aaa",
   "metadata": {},
   "outputs": [
    {
     "name": "stdout",
     "output_type": "stream",
     "text": [
      "Motivation count for students with disabilities\n",
      "\n"
     ]
    },
    {
     "data": {
      "text/html": [
       "<div>\n",
       "<style scoped>\n",
       "    .dataframe tbody tr th:only-of-type {\n",
       "        vertical-align: middle;\n",
       "    }\n",
       "\n",
       "    .dataframe tbody tr th {\n",
       "        vertical-align: top;\n",
       "    }\n",
       "\n",
       "    .dataframe thead th {\n",
       "        text-align: right;\n",
       "    }\n",
       "</style>\n",
       "<table border=\"1\" class=\"dataframe\">\n",
       "  <thead>\n",
       "    <tr style=\"text-align: right;\">\n",
       "      <th></th>\n",
       "      <th>count</th>\n",
       "    </tr>\n",
       "    <tr>\n",
       "      <th>Motivation_Level</th>\n",
       "      <th></th>\n",
       "    </tr>\n",
       "  </thead>\n",
       "  <tbody>\n",
       "    <tr>\n",
       "      <th>Medium</th>\n",
       "      <td>47.91</td>\n",
       "    </tr>\n",
       "    <tr>\n",
       "      <th>Low</th>\n",
       "      <td>30.79</td>\n",
       "    </tr>\n",
       "    <tr>\n",
       "      <th>High</th>\n",
       "      <td>21.29</td>\n",
       "    </tr>\n",
       "  </tbody>\n",
       "</table>\n",
       "</div>"
      ],
      "text/plain": [
       "                  count\n",
       "Motivation_Level       \n",
       "Medium            47.91\n",
       "Low               30.79\n",
       "High              21.29"
      ]
     },
     "metadata": {},
     "output_type": "display_data"
    },
    {
     "name": "stdout",
     "output_type": "stream",
     "text": [
      "Motivation count for students without disabilities\n",
      "\n"
     ]
    },
    {
     "data": {
      "text/html": [
       "<div>\n",
       "<style scoped>\n",
       "    .dataframe tbody tr th:only-of-type {\n",
       "        vertical-align: middle;\n",
       "    }\n",
       "\n",
       "    .dataframe tbody tr th {\n",
       "        vertical-align: top;\n",
       "    }\n",
       "\n",
       "    .dataframe thead th {\n",
       "        text-align: right;\n",
       "    }\n",
       "</style>\n",
       "<table border=\"1\" class=\"dataframe\">\n",
       "  <thead>\n",
       "    <tr style=\"text-align: right;\">\n",
       "      <th></th>\n",
       "      <th>count</th>\n",
       "    </tr>\n",
       "    <tr>\n",
       "      <th>Motivation_Level</th>\n",
       "      <th></th>\n",
       "    </tr>\n",
       "  </thead>\n",
       "  <tbody>\n",
       "    <tr>\n",
       "      <th>Medium</th>\n",
       "      <td>51.05</td>\n",
       "    </tr>\n",
       "    <tr>\n",
       "      <th>Low</th>\n",
       "      <td>29.14</td>\n",
       "    </tr>\n",
       "    <tr>\n",
       "      <th>High</th>\n",
       "      <td>19.81</td>\n",
       "    </tr>\n",
       "  </tbody>\n",
       "</table>\n",
       "</div>"
      ],
      "text/plain": [
       "                  count\n",
       "Motivation_Level       \n",
       "Medium            51.05\n",
       "Low               29.14\n",
       "High              19.81"
      ]
     },
     "metadata": {},
     "output_type": "display_data"
    }
   ],
   "source": [
    "# Calculate the percentage of students who reported either Low, Medium, or High motivation for each dataframe.\n",
    "# Round the percentages for readability.\n",
    "hasDisabilityMotivation = (hasDisability[\"Motivation_Level\"].value_counts() / hasDisability[\"Motivation_Level\"].count()) * 100\n",
    "hasDisabilityMotivation = hasDisabilityMotivation.round(2)\n",
    "\n",
    "noDisabilityMotivation = (noDisability[\"Motivation_Level\"].value_counts() / noDisability[\"Motivation_Level\"].count()) * 100\n",
    "noDisabilityMotivation = noDisabilityMotivation.round(2)\n",
    "\n",
    "# Display the results as a dataframe, sorted in descending order by count.\n",
    "print(\"Motivation count for students with disabilities\\n\")\n",
    "display(hasDisabilityMotivation.to_frame().sort_values(by = \"count\", ascending = False))\n",
    "\n",
    "print(\"Motivation count for students without disabilities\\n\")\n",
    "display(noDisabilityMotivation.to_frame().sort_values(by = \"count\", ascending = False))"
   ]
  },
  {
   "cell_type": "markdown",
   "id": "3c6db787-52a5-4b0b-8b46-c63a9874289e",
   "metadata": {},
   "source": [
    "The data above shows that students with and without learning disabilities have very similar motivation levels. Students with disabilities have slightly lower and slightly higher motivation levels. Students without disabilities tend to have a more moderate amount of motivation. This could indicate that the presence of a learning disability makes those students have more extreme feelings regarding doing well in school. They could be discouraged and feel less motivated or be encouraged and feel more motivated to do well despite their learning disability. Those without disabilities may not feel less or more motivated because of the lack of that extra factor impacting their learning. It is reasonable to conclude that the presence of a learning disability has a slight impact on a student's motivation level, with it causing these students to feel more extreme about performing well."
   ]
  },
  {
   "cell_type": "markdown",
   "id": "96439308-2dfd-494e-b2e5-df81e2e9f1d3",
   "metadata": {},
   "source": [
    "### Research Question 4"
   ]
  },
  {
   "cell_type": "code",
   "execution_count": 24,
   "id": "675be165-e419-4c90-8ed2-6ba3e8960023",
   "metadata": {},
   "outputs": [
    {
     "data": {
      "text/html": [
       "<div>\n",
       "<style scoped>\n",
       "    .dataframe tbody tr th:only-of-type {\n",
       "        vertical-align: middle;\n",
       "    }\n",
       "\n",
       "    .dataframe tbody tr th {\n",
       "        vertical-align: top;\n",
       "    }\n",
       "\n",
       "    .dataframe thead th {\n",
       "        text-align: right;\n",
       "    }\n",
       "</style>\n",
       "<table border=\"1\" class=\"dataframe\">\n",
       "  <thead>\n",
       "    <tr style=\"text-align: right;\">\n",
       "      <th></th>\n",
       "      <th>Access_to_Resources</th>\n",
       "      <th>Average_Score</th>\n",
       "    </tr>\n",
       "  </thead>\n",
       "  <tbody>\n",
       "    <tr>\n",
       "      <th>6</th>\n",
       "      <td>Low</td>\n",
       "      <td>67</td>\n",
       "    </tr>\n",
       "    <tr>\n",
       "      <th>16</th>\n",
       "      <td>Low</td>\n",
       "      <td>62</td>\n",
       "    </tr>\n",
       "    <tr>\n",
       "      <th>25</th>\n",
       "      <td>Low</td>\n",
       "      <td>59</td>\n",
       "    </tr>\n",
       "    <tr>\n",
       "      <th>36</th>\n",
       "      <td>Low</td>\n",
       "      <td>77</td>\n",
       "    </tr>\n",
       "    <tr>\n",
       "      <th>47</th>\n",
       "      <td>Low</td>\n",
       "      <td>67</td>\n",
       "    </tr>\n",
       "  </tbody>\n",
       "</table>\n",
       "</div>"
      ],
      "text/plain": [
       "   Access_to_Resources  Average_Score\n",
       "6                  Low             67\n",
       "16                 Low             62\n",
       "25                 Low             59\n",
       "36                 Low             77\n",
       "47                 Low             67"
      ]
     },
     "metadata": {},
     "output_type": "display_data"
    },
    {
     "data": {
      "text/html": [
       "<div>\n",
       "<style scoped>\n",
       "    .dataframe tbody tr th:only-of-type {\n",
       "        vertical-align: middle;\n",
       "    }\n",
       "\n",
       "    .dataframe tbody tr th {\n",
       "        vertical-align: top;\n",
       "    }\n",
       "\n",
       "    .dataframe thead th {\n",
       "        text-align: right;\n",
       "    }\n",
       "</style>\n",
       "<table border=\"1\" class=\"dataframe\">\n",
       "  <thead>\n",
       "    <tr style=\"text-align: right;\">\n",
       "      <th></th>\n",
       "      <th>Access_to_Resources</th>\n",
       "      <th>Average_Score</th>\n",
       "    </tr>\n",
       "  </thead>\n",
       "  <tbody>\n",
       "    <tr>\n",
       "      <th>1</th>\n",
       "      <td>Medium</td>\n",
       "      <td>60</td>\n",
       "    </tr>\n",
       "    <tr>\n",
       "      <th>2</th>\n",
       "      <td>Medium</td>\n",
       "      <td>82</td>\n",
       "    </tr>\n",
       "    <tr>\n",
       "      <th>3</th>\n",
       "      <td>Medium</td>\n",
       "      <td>84</td>\n",
       "    </tr>\n",
       "    <tr>\n",
       "      <th>4</th>\n",
       "      <td>Medium</td>\n",
       "      <td>67</td>\n",
       "    </tr>\n",
       "    <tr>\n",
       "      <th>5</th>\n",
       "      <td>Medium</td>\n",
       "      <td>80</td>\n",
       "    </tr>\n",
       "  </tbody>\n",
       "</table>\n",
       "</div>"
      ],
      "text/plain": [
       "  Access_to_Resources  Average_Score\n",
       "1              Medium             60\n",
       "2              Medium             82\n",
       "3              Medium             84\n",
       "4              Medium             67\n",
       "5              Medium             80"
      ]
     },
     "metadata": {},
     "output_type": "display_data"
    },
    {
     "data": {
      "text/html": [
       "<div>\n",
       "<style scoped>\n",
       "    .dataframe tbody tr th:only-of-type {\n",
       "        vertical-align: middle;\n",
       "    }\n",
       "\n",
       "    .dataframe tbody tr th {\n",
       "        vertical-align: top;\n",
       "    }\n",
       "\n",
       "    .dataframe thead th {\n",
       "        text-align: right;\n",
       "    }\n",
       "</style>\n",
       "<table border=\"1\" class=\"dataframe\">\n",
       "  <thead>\n",
       "    <tr style=\"text-align: right;\">\n",
       "      <th></th>\n",
       "      <th>Access_to_Resources</th>\n",
       "      <th>Average_Score</th>\n",
       "    </tr>\n",
       "  </thead>\n",
       "  <tbody>\n",
       "    <tr>\n",
       "      <th>0</th>\n",
       "      <td>High</td>\n",
       "      <td>70</td>\n",
       "    </tr>\n",
       "    <tr>\n",
       "      <th>7</th>\n",
       "      <td>High</td>\n",
       "      <td>58</td>\n",
       "    </tr>\n",
       "    <tr>\n",
       "      <th>8</th>\n",
       "      <td>High</td>\n",
       "      <td>74</td>\n",
       "    </tr>\n",
       "    <tr>\n",
       "      <th>10</th>\n",
       "      <td>High</td>\n",
       "      <td>78</td>\n",
       "    </tr>\n",
       "    <tr>\n",
       "      <th>11</th>\n",
       "      <td>High</td>\n",
       "      <td>79</td>\n",
       "    </tr>\n",
       "  </tbody>\n",
       "</table>\n",
       "</div>"
      ],
      "text/plain": [
       "   Access_to_Resources  Average_Score\n",
       "0                 High             70\n",
       "7                 High             58\n",
       "8                 High             74\n",
       "10                High             78\n",
       "11                High             79"
      ]
     },
     "metadata": {},
     "output_type": "display_data"
    }
   ],
   "source": [
    "# Divide the data frame into 3 different data frames representing students with a low, medium, and high \n",
    "# availbility of educational resources.\n",
    "lowAccess = df[df[\"Access_to_Resources\"] == \"Low\"]\n",
    "medAccess = df[df[\"Access_to_Resources\"] == \"Medium\"]\n",
    "highAccess = df[df[\"Access_to_Resources\"] == \"High\"]\n",
    "\n",
    "# Check the dataframe have been divided correctly.\n",
    "display(lowAccess[[\"Access_to_Resources\", \"Average_Score\"]].head())\n",
    "display(medAccess[[\"Access_to_Resources\", \"Average_Score\"]].head())\n",
    "display(highAccess[[\"Access_to_Resources\", \"Average_Score\"]].head())"
   ]
  },
  {
   "cell_type": "code",
   "execution_count": 25,
   "id": "a57994ba-1339-49fa-be3c-0f5dcb33c4cf",
   "metadata": {},
   "outputs": [
    {
     "name": "stdout",
     "output_type": "stream",
     "text": [
      "Public Schools: Low Access: 69.94 Medium Access: 70.96 High Access: 71.65\n",
      "Private Schools: Low Access: 70.19 Medium Access: 70.79 High Access: 71.13\n"
     ]
    }
   ],
   "source": [
    "# Next, filter the 3 access dataframes into to only include public and private schools.\n",
    "# For both school types, take the average exam score.\n",
    "lowPub = lowAccess[lowAccess[\"School_Type\"] == \"Public\"][\"Average_Score\"].mean()\n",
    "lowPriv = lowAccess[lowAccess[\"School_Type\"] == \"Private\"][\"Average_Score\"].mean()\n",
    "\n",
    "medPub = medAccess[medAccess[\"School_Type\"] == \"Public\"][\"Average_Score\"].mean()\n",
    "medPriv = medAccess[medAccess[\"School_Type\"] == \"Private\"][\"Average_Score\"].mean()\n",
    "\n",
    "highPub = highAccess[highAccess[\"School_Type\"] == \"Public\"][\"Average_Score\"].mean()\n",
    "highPriv = highAccess[highAccess[\"School_Type\"] == \"Private\"][\"Average_Score\"].mean()\n",
    "\n",
    "# Display the average exam scores for public and private schools, for students with a low, medium, and high availbility\n",
    "# of educational resources.\n",
    "print(\"Public Schools: Low Access:\", lowPub.round(2), \"Medium Access:\", medPub.round(2), \"High Access:\", highPub.round(2))\n",
    "print(\"Private Schools: Low Access:\", lowPriv.round(2), \"Medium Access:\", medPriv.round(2), \"High Access:\", highPriv.round(2))"
   ]
  },
  {
   "cell_type": "markdown",
   "id": "ffe7ff2e-dba4-4a76-8127-46eb2f0e895d",
   "metadata": {},
   "source": [
    "This data shows that students perform best across public and private schools with a high amount of access to educational resources. And while public schools have the highest average exam score, they also have a wider range. On average, it seems the performance of students in private schools is more consistent, regardless of access to resources. To verify this assumption and better visualize the difference in student performance between public and private schools, bar graphs will be used."
   ]
  },
  {
   "cell_type": "code",
   "execution_count": 26,
   "id": "042d8852-82be-474f-99a7-bb098a68fd29",
   "metadata": {},
   "outputs": [
    {
     "data": {
      "image/png": "[encoded data removed]",
      "text/plain": [
       "<Figure size 640x480 with 1 Axes>"
      ]
     },
     "metadata": {},
     "output_type": "display_data"
    }
   ],
   "source": [
    "# Plot the differece between the average exam performance of students in public vs private schools.\n",
    "schoolTypes = [\"Public Schools\", \"Private Schools\"]\n",
    "xAxis = np.arange(len(schoolTypes)) / 2\n",
    "\n",
    "plt.bar(xAxis - 0.10, [lowPub, lowPriv], 0.10) \n",
    "plt.bar(xAxis, [medPub, medPriv], 0.10) \n",
    "plt.bar(xAxis + 0.10, [highPub, highPriv], 0.10) \n",
    "\n",
    "plt.xticks(xAxis, schoolTypes)\n",
    "plt.ylabel(\"Average Score\")\n",
    "plt.legend([\"Low Resource Access\", \"Medium Resource Access\", \"High Resource Access\"])\n",
    "plt.show()"
   ]
  },
  {
   "cell_type": "markdown",
   "id": "6828f951-6d72-460e-b7cc-3a23e63e2dfd",
   "metadata": {},
   "source": [
    "The chart above shows the relationship between school type (x-axis) and average exam scores (y-axis). The two school types are broken into three groups representing the level of access to educational resources the students have. There is a larger difference in performance between the educational resource groups for students in public school versus those in private school. This reinforces the earlier inference that students who attend private school have more consistent exam performances. Overall, as the level of educational resources increases, the average student exam grade increases. Based on this information, it can be concluded that access to educational resources has a positive effect on students' exam performances, this impact increasing if the students attend a public school. School type has a slight impact on student performance, but not one so significant that it can be said definitively that private schools are much better than public schools. Students who attend a public school but have other educational resources available to them have the ability to outperform the ones who attend a private school."
   ]
  },
  {
   "cell_type": "markdown",
   "id": "7d83d5a8-e067-474b-9265-725d28869ff3",
   "metadata": {},
   "source": [
    "# Discussion"
   ]
  },
  {
   "cell_type": "markdown",
   "id": "471489ea-e3ef-4aa6-8682-536078e9313e",
   "metadata": {},
   "source": [
    "This project served to examine how various factors can impact a student's performance in school. The factors chosen provided insights into a student's level of effort in school, socioeconomic status, and physical and mental health. While they cannot paint the whole picture of a student, they can help us better understand what helps students succeed and how we can help them improve.\n",
    "\n",
    "Based on the analysis of this dataset, the factors that impact a student's performance in school the most are their level of effort and health/well-being. When examining how a student's attendance relates to their grades, we saw a significant relationship, with students who attended class more often performing much better overall than those who did not. There was also a significant relationship between sleep and a student's performance, with those getting only 4-5 hours of sleep per night getting low and inconsistent exam scores. Comparatively, a student's socioeconomic status had a much less impactful relationship. Teacher quality and school type did not affect student performance as much as the other factors and were often secondary to things like effort. While access to educational resources did have a positive correlation to student performance, it can be argued that this factor is about a student's effort as well as socioeconomic status. A student can have educational resources available to them, but if they don't put in the effort to use said resources, they won't improve. Motivation plays a large part in effort. And a majority of students only have a medium level of motivation to do well in school, regardless of any detriments to their learning abilities. Perhaps by having a higher amount of educational resources available to them, students feel more motivated to put more effort into their learning. \n",
    "\n",
    "Using this understanding of what helps students perform better in school, we can better help students. Encouraging healthy sleeping habits is a good start, which can be done at school or at home. Assigning less work for students to do outside of class could also be helpful, so they can focus on their wellbeing. Most importantly, we need to be encouraging students to put effort into their learning. The best way to do this would be to make outside educational resources more available for them to use."
   ]
  }
 ],
 "metadata": {
  "kernelspec": {
   "display_name": "DSC201",
   "language": "python",
   "name": "dsc201"
  },
  "language_info": {
   "codemirror_mode": {
    "name": "ipython",
    "version": 3
   },
   "file_extension": ".py",
   "mimetype": "text/x-python",
   "name": "python",
   "nbconvert_exporter": "python",
   "pygments_lexer": "ipython3",
   "version": "3.11.0"
  }
 },
 "nbformat": 4,
 "nbformat_minor": 5
}
